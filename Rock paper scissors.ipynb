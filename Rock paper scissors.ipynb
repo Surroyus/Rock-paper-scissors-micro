{
 "cells": [
  {
   "cell_type": "code",
   "execution_count": null,
   "id": "36940620",
   "metadata": {},
   "outputs": [
    {
     "name": "stdout",
     "output_type": "stream",
     "text": [
      "Invalid choice. Try again.\n",
      "Invalid choice. Try again.\n",
      "Invalid choice. Try again.\n",
      "Computer chose paper\n",
      "its a Tie\n"
     ]
    }
   ],
   "source": [
    "import random\n",
    "options = [\"rock\", \"paper\", \"scissors\"]\n",
    "\n",
    "    Player_choice = input(\"Choose rock, paper, or scissors. \").lower()\n",
    "\n",
    "    if Player_choice not in options:\n",
    "        print(\"Invalid choice. Try again.\")\n",
    "        continue\n",
    "    computer_choice = random.choice(options)\n",
    "    print(f\"Computer chose {computer_choice}\")\n",
    "    if Player_choice == computer_choice:\n",
    "        print(\"its a Tie\")\n",
    "    elif (\n",
    "        (Player_choice == \"rock\" and\n",
    "    computer_choice == \"scissors\") or \n",
    "        (Player_choice == \"scissors\" and\n",
    "    computer_choice == \"paper\") or\n",
    "        (Player_choice == \"paper\" and\n",
    "    computer_choice == \"rock\")\n",
    "    ):\n",
    "        print(f\"Computer chose {computer_choice} you chose {Player_choice} \n",
    "        you Win!\")\n",
    "    else:\n",
    "        print(f\"computer chose{computer_choice} you chose {Player_choice} \n",
    "        computer Wins\")\n",
    "    play_again = input(\"Play again? (yes/no): \").lower()\n",
    "    if play_again != \"yes\":\n",
    "        break"
   ]
  }
 ],
 "metadata": {
  "kernelspec": {
   "display_name": "Python 3",
   "language": "python",
   "name": "python3"
  },
  "language_info": {
   "codemirror_mode": {
    "name": "ipython",
    "version": 3
   },
   "file_extension": ".py",
   "mimetype": "text/x-python",
   "name": "python",
   "nbconvert_exporter": "python",
   "pygments_lexer": "ipython3",
   "version": "3.13.5"
  }
 },
 "nbformat": 4,
 "nbformat_minor": 5
}
